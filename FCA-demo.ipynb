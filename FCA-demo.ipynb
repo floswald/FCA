{
 "cells": [
  {
   "cell_type": "markdown",
   "metadata": {},
   "source": [
    "# Julia Demo\n",
    "\n",
    "This is an adapted version of the tutorial at juliabox.com, chapter 2, DataSciences - Algorithms.\n",
    "\n",
    "It differs from that demo in that it's \n",
    "1. shorter\n",
    "2. it uses julia v1.0\n",
    "3. it uses the piping syntax from the `Query.jl` package\n",
    "\n",
    "### Example 1: Kmeans Clustering\n",
    "\n",
    "Let's start with some data.\n",
    "\n",
    "The Sacramento real estate transactions file that we download next is a list of 985 real estate transactions in the Sacramento area reported over a five-day period,"
   ]
  },
  {
   "cell_type": "markdown",
   "metadata": {},
   "source": [
    "## Data Processing\n",
    "\n",
    "* lets download some data and do some work on it."
   ]
  },
  {
   "cell_type": "code",
   "execution_count": null,
   "metadata": {},
   "outputs": [],
   "source": [
    "using DataFrames\n",
    "using CSV\n",
    "download(\"http://samplecsvs.s3.amazonaws.com/Sacramentorealestatetransactions.csv\",\"houses.csv\")\n",
    "houses = CSV.read(\"houses.csv\")"
   ]
  },
  {
   "cell_type": "code",
   "execution_count": null,
   "metadata": {},
   "outputs": [],
   "source": [
    "using StatPlots\n",
    "@df houses scatter(:sq__ft,:price,markersize=3,xlab=\"square feet\",ylab=\"price\")"
   ]
  },
  {
   "cell_type": "markdown",
   "metadata": {},
   "source": [
    "What's with those houses at zero size and positive prices? must be wrong."
   ]
  },
  {
   "cell_type": "code",
   "execution_count": null,
   "metadata": {},
   "outputs": [],
   "source": [
    "using Query\n",
    "# x = @from i in houses begin\n",
    "#     @where i.sq__ft > 0\n",
    "#     @select {i.sq__ft,i.price}\n",
    "#     @collect DataFrame\n",
    "# end\n",
    "# @df x scatter(:sq__ft,:price,markersize=3,xlab=\"square feet\",ylab=\"price\")\n",
    "# even better: in a pipeline!\n",
    "houses |>\n",
    "    @filter(_.sq__ft > 0) |>\n",
    "    @df scatter(:sq__ft,:price,markersize=3,xlab=\"square feet\",ylab=\"price\")"
   ]
  },
  {
   "cell_type": "markdown",
   "metadata": {},
   "source": [
    "## Clustering\n",
    "\n",
    "* Let's do some clustering\n",
    "* we want to cluster on location and see if we can replicate the post code groupings"
   ]
  },
  {
   "cell_type": "code",
   "execution_count": null,
   "metadata": {},
   "outputs": [],
   "source": [
    "using Clustering\n",
    "\n",
    "X = @from i in houses begin\n",
    "    @where i.sq__ft > 0\n",
    "    @select {i.latitude,i.longitude}\n",
    "    @collect DataFrame\n",
    "end"
   ]
  },
  {
   "cell_type": "markdown",
   "metadata": {},
   "source": [
    "let's convert this into a matrix of `Float64`:"
   ]
  },
  {
   "cell_type": "code",
   "execution_count": null,
   "metadata": {},
   "outputs": [],
   "source": [
    "y = convert(Matrix{Float64},X)"
   ]
  },
  {
   "cell_type": "markdown",
   "metadata": {},
   "source": [
    "As a first pass at guessing how many clusters we might need, let's use the number of zip codes in our data.\n",
    "\n",
    "(Try changing this to see how it impacts results!)"
   ]
  },
  {
   "cell_type": "code",
   "execution_count": null,
   "metadata": {},
   "outputs": [],
   "source": [
    "filter_houses = houses[houses[:sq__ft].>0,:]\n",
    "k = length(unique(filter_houses[:zip])) "
   ]
  },
  {
   "cell_type": "markdown",
   "metadata": {},
   "source": [
    "Now we can do kmeans on this data! Note that we need to transpose `y` so that each column is a feature of the data."
   ]
  },
  {
   "cell_type": "code",
   "execution_count": null,
   "metadata": {},
   "outputs": [],
   "source": [
    "yp = convert(Array{Float64},y')\n",
    "C = kmeans(yp,k) # try changing k"
   ]
  },
  {
   "cell_type": "markdown",
   "metadata": {},
   "source": [
    "Now let's create a new data frame, `df`, with all the same data as `filter_houses` that also includes a column for the cluster to which each house has been assigned."
   ]
  },
  {
   "cell_type": "code",
   "execution_count": null,
   "metadata": {},
   "outputs": [],
   "source": [
    "df = filter_houses[[:city,:latitude,:longitude,:zip]]\n",
    "df[:cluster] = C.assignments\n",
    "df"
   ]
  },
  {
   "cell_type": "markdown",
   "metadata": {},
   "source": [
    "Let's plot each cluster as a different color."
   ]
  },
  {
   "cell_type": "code",
   "execution_count": null,
   "metadata": {},
   "outputs": [],
   "source": [
    "\"plot the i-th cluster\"\n",
    "function ploti(df,i)\n",
    "    df |>\n",
    "        @filter(_.cluster == i) |>\n",
    "        @df scatter!(:latitude,:longitude,markersize=4) # note the !\n",
    "end\n",
    "\n",
    "p_cluster = scatter(legend=false);\n",
    "for i in 1:k\n",
    "    p_cluster = ploti(df,i)\n",
    "end\n",
    "title!(p_cluster,\"Houses color-coded by cluster\")\n",
    "p_cluster"
   ]
  },
  {
   "cell_type": "code",
   "execution_count": null,
   "metadata": {},
   "outputs": [],
   "source": [
    "\"plot houses by zip codes\"\n",
    "function plotz(df,i)\n",
    "    df |>\n",
    "        @filter(_.zip == i) |>\n",
    "        @df scatter!(:latitude,:longitude)\n",
    "end\n",
    "\n",
    "unique_zips = unique(filter_houses[:zip])\n",
    "\n",
    "p_zips = scatter(leg=false)\n",
    "for uzip in unique_zips\n",
    "    p_zips = plotz(filter_houses,uzip);\n",
    "end\n",
    "title!(p_zips,\"Houses color-coded by zip code\")\n",
    "p_zips"
   ]
  },
  {
   "cell_type": "markdown",
   "metadata": {},
   "source": [
    "How do they compare?"
   ]
  },
  {
   "cell_type": "code",
   "execution_count": null,
   "metadata": {},
   "outputs": [],
   "source": [
    "plot(p_cluster,p_zips,layout=(2,1))"
   ]
  },
  {
   "cell_type": "markdown",
   "metadata": {},
   "source": [
    "## Let's do a hand-coded linear regression shootout!\n",
    "\n",
    "It's Python vs Julia!"
   ]
  },
  {
   "cell_type": "code",
   "execution_count": null,
   "metadata": {},
   "outputs": [],
   "source": [
    "using Plots\n",
    "xvals = repeat(1:0.5:10,inner=2)\n",
    "yvals = 3 .+ xvals + 2 .* rand(length(xvals)).-1\n",
    "scatter(xvals,yvals,color=:black,leg=false)"
   ]
  },
  {
   "cell_type": "markdown",
   "metadata": {},
   "source": [
    "Now we want to fit a line through this. Linear Regression! Let's write a simple function in julia:"
   ]
  },
  {
   "cell_type": "code",
   "execution_count": null,
   "metadata": {},
   "outputs": [],
   "source": [
    "using Statistics\n",
    "function find_best_fit(xvals,yvals)\n",
    "    meanx = mean(xvals)\n",
    "    meany = mean(yvals)\n",
    "    stdx = std(xvals)\n",
    "    stdy = std(yvals)\n",
    "    r = cor(xvals,yvals)\n",
    "    a = r*stdy/stdx\n",
    "    b = meany - a*meanx\n",
    "    return a,b\n",
    "end"
   ]
  },
  {
   "cell_type": "code",
   "execution_count": null,
   "metadata": {},
   "outputs": [],
   "source": [
    "a,b = find_best_fit(xvals,yvals)\n",
    "ynew = a*xvals .+ b"
   ]
  },
  {
   "cell_type": "code",
   "execution_count": null,
   "metadata": {},
   "outputs": [],
   "source": [
    "plot!(xvals,ynew)"
   ]
  },
  {
   "cell_type": "markdown",
   "metadata": {},
   "source": [
    "now more data!"
   ]
  },
  {
   "cell_type": "code",
   "execution_count": null,
   "metadata": {},
   "outputs": [],
   "source": [
    "xvals = 1:100000;\n",
    "xvals = repeat(xvals,inner=3);\n",
    "yvals = 3 .+ xvals + 2 .* rand(length(xvals)).-1;"
   ]
  },
  {
   "cell_type": "code",
   "execution_count": null,
   "metadata": {},
   "outputs": [],
   "source": [
    "@time a,b = find_best_fit(xvals,yvals)"
   ]
  },
  {
   "cell_type": "code",
   "execution_count": null,
   "metadata": {},
   "outputs": [],
   "source": [
    "using PyCall\n",
    "using Conda"
   ]
  },
  {
   "cell_type": "code",
   "execution_count": null,
   "metadata": {},
   "outputs": [],
   "source": [
    "py\"\"\"\n",
    "import numpy\n",
    "def find_best_fit_python(xvals,yvals):\n",
    "    meanx = numpy.mean(xvals)\n",
    "    meany = numpy.mean(yvals)\n",
    "    stdx = numpy.std(xvals)\n",
    "    stdy = numpy.std(yvals)\n",
    "    r = numpy.corrcoef(xvals,yvals)[0][1]\n",
    "    a = r*stdy/stdx\n",
    "    b = meany - a*meanx\n",
    "    return a,b\n",
    "\"\"\""
   ]
  },
  {
   "cell_type": "code",
   "execution_count": null,
   "metadata": {},
   "outputs": [],
   "source": [
    "find_best_fit_python = py\"find_best_fit_python\""
   ]
  },
  {
   "cell_type": "code",
   "execution_count": null,
   "metadata": {},
   "outputs": [],
   "source": [
    "xpy = PyObject(xvals)\n",
    "ypy = PyObject(yvals)\n",
    "@time a,b = find_best_fit_python(xpy,ypy)"
   ]
  },
  {
   "cell_type": "code",
   "execution_count": null,
   "metadata": {},
   "outputs": [],
   "source": [
    "using BenchmarkTools"
   ]
  },
  {
   "cell_type": "code",
   "execution_count": null,
   "metadata": {},
   "outputs": [],
   "source": [
    "@btime a,b = find_best_fit_python(xvals,yvals)"
   ]
  },
  {
   "cell_type": "code",
   "execution_count": null,
   "metadata": {},
   "outputs": [],
   "source": [
    "@btime a,b = find_best_fit(xvals,yvals)"
   ]
  },
  {
   "cell_type": "markdown",
   "metadata": {},
   "source": [
    "## How fast is the GLM package regression?"
   ]
  },
  {
   "cell_type": "code",
   "execution_count": null,
   "metadata": {},
   "outputs": [],
   "source": [
    "using GLM\n",
    "using DataFrames\n",
    "df = DataFrame(x = xvals,y=yvals)\n",
    "@btime glm = lm(@formula(y ~ x), df)"
   ]
  },
  {
   "cell_type": "code",
   "execution_count": null,
   "metadata": {},
   "outputs": [],
   "source": []
  }
 ],
 "metadata": {
  "kernelspec": {
   "display_name": "Julia 1.0.0",
   "language": "julia",
   "name": "julia-1.0"
  },
  "language_info": {
   "file_extension": ".jl",
   "mimetype": "application/julia",
   "name": "julia",
   "version": "1.0.0"
  }
 },
 "nbformat": 4,
 "nbformat_minor": 2
}
